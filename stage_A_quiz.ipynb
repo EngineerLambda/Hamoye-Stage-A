{
 "cells": [
  {
   "cell_type": "markdown",
   "id": "7a328087",
   "metadata": {},
   "source": [
    "## This is the tag along code for the stage A quiz"
   ]
  },
  {
   "cell_type": "markdown",
   "id": "d3647c34",
   "metadata": {},
   "source": [
    "### Author details\n",
    "#### Name: Jimoh Abdulsomad Abiola\n",
    "#### Hamoye ID:  15e47f79f981f000"
   ]
  },
  {
   "cell_type": "markdown",
   "id": "2e290a47",
   "metadata": {},
   "source": [
    "#### Importing the necessary modules"
   ]
  },
  {
   "cell_type": "code",
   "execution_count": 87,
   "id": "10f55ff8",
   "metadata": {},
   "outputs": [],
   "source": [
    "import numpy as np\n",
    "import pandas as pd"
   ]
  },
  {
   "cell_type": "code",
   "execution_count": 88,
   "id": "619b4715",
   "metadata": {},
   "outputs": [
    {
     "data": {
      "text/html": [
       "<div>\n",
       "<style scoped>\n",
       "    .dataframe tbody tr th:only-of-type {\n",
       "        vertical-align: middle;\n",
       "    }\n",
       "\n",
       "    .dataframe tbody tr th {\n",
       "        vertical-align: top;\n",
       "    }\n",
       "\n",
       "    .dataframe thead th {\n",
       "        text-align: right;\n",
       "    }\n",
       "</style>\n",
       "<table border=\"1\" class=\"dataframe\">\n",
       "  <thead>\n",
       "    <tr style=\"text-align: right;\">\n",
       "      <th></th>\n",
       "      <th>Area Code</th>\n",
       "      <th>Area</th>\n",
       "      <th>Item Code</th>\n",
       "      <th>Item</th>\n",
       "      <th>Element Code</th>\n",
       "      <th>Element</th>\n",
       "      <th>Unit</th>\n",
       "      <th>Y2014</th>\n",
       "      <th>Y2015</th>\n",
       "      <th>Y2016</th>\n",
       "      <th>Y2017</th>\n",
       "      <th>Y2018</th>\n",
       "    </tr>\n",
       "  </thead>\n",
       "  <tbody>\n",
       "    <tr>\n",
       "      <th>0</th>\n",
       "      <td>4</td>\n",
       "      <td>Algeria</td>\n",
       "      <td>2501</td>\n",
       "      <td>Population</td>\n",
       "      <td>511</td>\n",
       "      <td>Total Population - Both sexes</td>\n",
       "      <td>1000 persons</td>\n",
       "      <td>38924.00</td>\n",
       "      <td>39728.00</td>\n",
       "      <td>40551.00</td>\n",
       "      <td>41389.00</td>\n",
       "      <td>42228.00</td>\n",
       "    </tr>\n",
       "    <tr>\n",
       "      <th>1</th>\n",
       "      <td>4</td>\n",
       "      <td>Algeria</td>\n",
       "      <td>2501</td>\n",
       "      <td>Population</td>\n",
       "      <td>5301</td>\n",
       "      <td>Domestic supply quantity</td>\n",
       "      <td>1000 tonnes</td>\n",
       "      <td>0.00</td>\n",
       "      <td>0.00</td>\n",
       "      <td>0.00</td>\n",
       "      <td>0.00</td>\n",
       "      <td>0.00</td>\n",
       "    </tr>\n",
       "    <tr>\n",
       "      <th>2</th>\n",
       "      <td>4</td>\n",
       "      <td>Algeria</td>\n",
       "      <td>2901</td>\n",
       "      <td>Grand Total</td>\n",
       "      <td>664</td>\n",
       "      <td>Food supply (kcal/capita/day)</td>\n",
       "      <td>kcal/capita/day</td>\n",
       "      <td>3377.00</td>\n",
       "      <td>3379.00</td>\n",
       "      <td>3372.00</td>\n",
       "      <td>3341.00</td>\n",
       "      <td>3322.00</td>\n",
       "    </tr>\n",
       "    <tr>\n",
       "      <th>3</th>\n",
       "      <td>4</td>\n",
       "      <td>Algeria</td>\n",
       "      <td>2901</td>\n",
       "      <td>Grand Total</td>\n",
       "      <td>674</td>\n",
       "      <td>Protein supply quantity (g/capita/day)</td>\n",
       "      <td>g/capita/day</td>\n",
       "      <td>94.90</td>\n",
       "      <td>94.35</td>\n",
       "      <td>94.72</td>\n",
       "      <td>92.82</td>\n",
       "      <td>91.83</td>\n",
       "    </tr>\n",
       "    <tr>\n",
       "      <th>4</th>\n",
       "      <td>4</td>\n",
       "      <td>Algeria</td>\n",
       "      <td>2901</td>\n",
       "      <td>Grand Total</td>\n",
       "      <td>684</td>\n",
       "      <td>Fat supply quantity (g/capita/day)</td>\n",
       "      <td>g/capita/day</td>\n",
       "      <td>80.06</td>\n",
       "      <td>79.36</td>\n",
       "      <td>77.40</td>\n",
       "      <td>80.19</td>\n",
       "      <td>77.28</td>\n",
       "    </tr>\n",
       "    <tr>\n",
       "      <th>...</th>\n",
       "      <td>...</td>\n",
       "      <td>...</td>\n",
       "      <td>...</td>\n",
       "      <td>...</td>\n",
       "      <td>...</td>\n",
       "      <td>...</td>\n",
       "      <td>...</td>\n",
       "      <td>...</td>\n",
       "      <td>...</td>\n",
       "      <td>...</td>\n",
       "      <td>...</td>\n",
       "      <td>...</td>\n",
       "    </tr>\n",
       "    <tr>\n",
       "      <th>60938</th>\n",
       "      <td>181</td>\n",
       "      <td>Zimbabwe</td>\n",
       "      <td>2899</td>\n",
       "      <td>Miscellaneous</td>\n",
       "      <td>5142</td>\n",
       "      <td>Food</td>\n",
       "      <td>1000 tonnes</td>\n",
       "      <td>42.00</td>\n",
       "      <td>46.00</td>\n",
       "      <td>33.00</td>\n",
       "      <td>19.00</td>\n",
       "      <td>16.00</td>\n",
       "    </tr>\n",
       "    <tr>\n",
       "      <th>60939</th>\n",
       "      <td>181</td>\n",
       "      <td>Zimbabwe</td>\n",
       "      <td>2899</td>\n",
       "      <td>Miscellaneous</td>\n",
       "      <td>645</td>\n",
       "      <td>Food supply quantity (kg/capita/yr)</td>\n",
       "      <td>kg</td>\n",
       "      <td>3.06</td>\n",
       "      <td>3.33</td>\n",
       "      <td>2.35</td>\n",
       "      <td>1.33</td>\n",
       "      <td>1.08</td>\n",
       "    </tr>\n",
       "    <tr>\n",
       "      <th>60940</th>\n",
       "      <td>181</td>\n",
       "      <td>Zimbabwe</td>\n",
       "      <td>2899</td>\n",
       "      <td>Miscellaneous</td>\n",
       "      <td>664</td>\n",
       "      <td>Food supply (kcal/capita/day)</td>\n",
       "      <td>kcal/capita/day</td>\n",
       "      <td>3.00</td>\n",
       "      <td>4.00</td>\n",
       "      <td>3.00</td>\n",
       "      <td>1.00</td>\n",
       "      <td>1.00</td>\n",
       "    </tr>\n",
       "    <tr>\n",
       "      <th>60941</th>\n",
       "      <td>181</td>\n",
       "      <td>Zimbabwe</td>\n",
       "      <td>2899</td>\n",
       "      <td>Miscellaneous</td>\n",
       "      <td>674</td>\n",
       "      <td>Protein supply quantity (g/capita/day)</td>\n",
       "      <td>g/capita/day</td>\n",
       "      <td>0.10</td>\n",
       "      <td>0.11</td>\n",
       "      <td>0.08</td>\n",
       "      <td>0.04</td>\n",
       "      <td>0.04</td>\n",
       "    </tr>\n",
       "    <tr>\n",
       "      <th>60942</th>\n",
       "      <td>181</td>\n",
       "      <td>Zimbabwe</td>\n",
       "      <td>2899</td>\n",
       "      <td>Miscellaneous</td>\n",
       "      <td>684</td>\n",
       "      <td>Fat supply quantity (g/capita/day)</td>\n",
       "      <td>g/capita/day</td>\n",
       "      <td>0.04</td>\n",
       "      <td>0.05</td>\n",
       "      <td>0.03</td>\n",
       "      <td>0.02</td>\n",
       "      <td>0.01</td>\n",
       "    </tr>\n",
       "  </tbody>\n",
       "</table>\n",
       "<p>60943 rows × 12 columns</p>\n",
       "</div>"
      ],
      "text/plain": [
       "       Area Code      Area  Item Code           Item  Element Code  \\\n",
       "0              4   Algeria       2501     Population           511   \n",
       "1              4   Algeria       2501     Population          5301   \n",
       "2              4   Algeria       2901    Grand Total           664   \n",
       "3              4   Algeria       2901    Grand Total           674   \n",
       "4              4   Algeria       2901    Grand Total           684   \n",
       "...          ...       ...        ...            ...           ...   \n",
       "60938        181  Zimbabwe       2899  Miscellaneous          5142   \n",
       "60939        181  Zimbabwe       2899  Miscellaneous           645   \n",
       "60940        181  Zimbabwe       2899  Miscellaneous           664   \n",
       "60941        181  Zimbabwe       2899  Miscellaneous           674   \n",
       "60942        181  Zimbabwe       2899  Miscellaneous           684   \n",
       "\n",
       "                                      Element             Unit     Y2014  \\\n",
       "0               Total Population - Both sexes     1000 persons  38924.00   \n",
       "1                    Domestic supply quantity      1000 tonnes      0.00   \n",
       "2               Food supply (kcal/capita/day)  kcal/capita/day   3377.00   \n",
       "3      Protein supply quantity (g/capita/day)     g/capita/day     94.90   \n",
       "4          Fat supply quantity (g/capita/day)     g/capita/day     80.06   \n",
       "...                                       ...              ...       ...   \n",
       "60938                                    Food      1000 tonnes     42.00   \n",
       "60939     Food supply quantity (kg/capita/yr)               kg      3.06   \n",
       "60940           Food supply (kcal/capita/day)  kcal/capita/day      3.00   \n",
       "60941  Protein supply quantity (g/capita/day)     g/capita/day      0.10   \n",
       "60942      Fat supply quantity (g/capita/day)     g/capita/day      0.04   \n",
       "\n",
       "          Y2015     Y2016     Y2017     Y2018  \n",
       "0      39728.00  40551.00  41389.00  42228.00  \n",
       "1          0.00      0.00      0.00      0.00  \n",
       "2       3379.00   3372.00   3341.00   3322.00  \n",
       "3         94.35     94.72     92.82     91.83  \n",
       "4         79.36     77.40     80.19     77.28  \n",
       "...         ...       ...       ...       ...  \n",
       "60938     46.00     33.00     19.00     16.00  \n",
       "60939      3.33      2.35      1.33      1.08  \n",
       "60940      4.00      3.00      1.00      1.00  \n",
       "60941      0.11      0.08      0.04      0.04  \n",
       "60942      0.05      0.03      0.02      0.01  \n",
       "\n",
       "[60943 rows x 12 columns]"
      ]
     },
     "execution_count": 88,
     "metadata": {},
     "output_type": "execute_result"
    }
   ],
   "source": [
    "file = pd.read_csv(\"FoodBalanceSheets_E_Africa_NOFLAG.csv\", encoding=\"latin-1\")\n",
    "file"
   ]
  },
  {
   "cell_type": "markdown",
   "id": "c954432c",
   "metadata": {},
   "source": [
    "### Deriving insights from the dataset"
   ]
  },
  {
   "cell_type": "code",
   "execution_count": 89,
   "id": "071b38df",
   "metadata": {},
   "outputs": [
    {
     "data": {
      "text/html": [
       "<div>\n",
       "<style scoped>\n",
       "    .dataframe tbody tr th:only-of-type {\n",
       "        vertical-align: middle;\n",
       "    }\n",
       "\n",
       "    .dataframe tbody tr th {\n",
       "        vertical-align: top;\n",
       "    }\n",
       "\n",
       "    .dataframe thead th {\n",
       "        text-align: right;\n",
       "    }\n",
       "</style>\n",
       "<table border=\"1\" class=\"dataframe\">\n",
       "  <thead>\n",
       "    <tr style=\"text-align: right;\">\n",
       "      <th></th>\n",
       "      <th>Area Code</th>\n",
       "      <th>Area</th>\n",
       "      <th>Item Code</th>\n",
       "      <th>Item</th>\n",
       "      <th>Element Code</th>\n",
       "      <th>Element</th>\n",
       "      <th>Unit</th>\n",
       "      <th>Y2014</th>\n",
       "      <th>Y2015</th>\n",
       "      <th>Y2016</th>\n",
       "      <th>Y2017</th>\n",
       "      <th>Y2018</th>\n",
       "    </tr>\n",
       "  </thead>\n",
       "  <tbody>\n",
       "    <tr>\n",
       "      <th>0</th>\n",
       "      <td>4</td>\n",
       "      <td>Algeria</td>\n",
       "      <td>2501</td>\n",
       "      <td>Population</td>\n",
       "      <td>511</td>\n",
       "      <td>Total Population - Both sexes</td>\n",
       "      <td>1000 persons</td>\n",
       "      <td>38924.00</td>\n",
       "      <td>39728.00</td>\n",
       "      <td>40551.00</td>\n",
       "      <td>41389.00</td>\n",
       "      <td>42228.00</td>\n",
       "    </tr>\n",
       "    <tr>\n",
       "      <th>1</th>\n",
       "      <td>4</td>\n",
       "      <td>Algeria</td>\n",
       "      <td>2501</td>\n",
       "      <td>Population</td>\n",
       "      <td>5301</td>\n",
       "      <td>Domestic supply quantity</td>\n",
       "      <td>1000 tonnes</td>\n",
       "      <td>0.00</td>\n",
       "      <td>0.00</td>\n",
       "      <td>0.00</td>\n",
       "      <td>0.00</td>\n",
       "      <td>0.00</td>\n",
       "    </tr>\n",
       "    <tr>\n",
       "      <th>2</th>\n",
       "      <td>4</td>\n",
       "      <td>Algeria</td>\n",
       "      <td>2901</td>\n",
       "      <td>Grand Total</td>\n",
       "      <td>664</td>\n",
       "      <td>Food supply (kcal/capita/day)</td>\n",
       "      <td>kcal/capita/day</td>\n",
       "      <td>3377.00</td>\n",
       "      <td>3379.00</td>\n",
       "      <td>3372.00</td>\n",
       "      <td>3341.00</td>\n",
       "      <td>3322.00</td>\n",
       "    </tr>\n",
       "    <tr>\n",
       "      <th>3</th>\n",
       "      <td>4</td>\n",
       "      <td>Algeria</td>\n",
       "      <td>2901</td>\n",
       "      <td>Grand Total</td>\n",
       "      <td>674</td>\n",
       "      <td>Protein supply quantity (g/capita/day)</td>\n",
       "      <td>g/capita/day</td>\n",
       "      <td>94.90</td>\n",
       "      <td>94.35</td>\n",
       "      <td>94.72</td>\n",
       "      <td>92.82</td>\n",
       "      <td>91.83</td>\n",
       "    </tr>\n",
       "    <tr>\n",
       "      <th>4</th>\n",
       "      <td>4</td>\n",
       "      <td>Algeria</td>\n",
       "      <td>2901</td>\n",
       "      <td>Grand Total</td>\n",
       "      <td>684</td>\n",
       "      <td>Fat supply quantity (g/capita/day)</td>\n",
       "      <td>g/capita/day</td>\n",
       "      <td>80.06</td>\n",
       "      <td>79.36</td>\n",
       "      <td>77.40</td>\n",
       "      <td>80.19</td>\n",
       "      <td>77.28</td>\n",
       "    </tr>\n",
       "  </tbody>\n",
       "</table>\n",
       "</div>"
      ],
      "text/plain": [
       "   Area Code     Area  Item Code         Item  Element Code  \\\n",
       "0          4  Algeria       2501   Population           511   \n",
       "1          4  Algeria       2501   Population          5301   \n",
       "2          4  Algeria       2901  Grand Total           664   \n",
       "3          4  Algeria       2901  Grand Total           674   \n",
       "4          4  Algeria       2901  Grand Total           684   \n",
       "\n",
       "                                  Element             Unit     Y2014  \\\n",
       "0           Total Population - Both sexes     1000 persons  38924.00   \n",
       "1                Domestic supply quantity      1000 tonnes      0.00   \n",
       "2           Food supply (kcal/capita/day)  kcal/capita/day   3377.00   \n",
       "3  Protein supply quantity (g/capita/day)     g/capita/day     94.90   \n",
       "4      Fat supply quantity (g/capita/day)     g/capita/day     80.06   \n",
       "\n",
       "      Y2015     Y2016     Y2017     Y2018  \n",
       "0  39728.00  40551.00  41389.00  42228.00  \n",
       "1      0.00      0.00      0.00      0.00  \n",
       "2   3379.00   3372.00   3341.00   3322.00  \n",
       "3     94.35     94.72     92.82     91.83  \n",
       "4     79.36     77.40     80.19     77.28  "
      ]
     },
     "execution_count": 89,
     "metadata": {},
     "output_type": "execute_result"
    }
   ],
   "source": [
    "file.head()"
   ]
  },
  {
   "cell_type": "code",
   "execution_count": 90,
   "id": "e3fbdef9",
   "metadata": {},
   "outputs": [
    {
     "name": "stdout",
     "output_type": "stream",
     "text": [
      "<class 'pandas.core.frame.DataFrame'>\n",
      "RangeIndex: 60943 entries, 0 to 60942\n",
      "Data columns (total 12 columns):\n",
      " #   Column        Non-Null Count  Dtype  \n",
      "---  ------        --------------  -----  \n",
      " 0   Area Code     60943 non-null  int64  \n",
      " 1   Area          60943 non-null  object \n",
      " 2   Item Code     60943 non-null  int64  \n",
      " 3   Item          60943 non-null  object \n",
      " 4   Element Code  60943 non-null  int64  \n",
      " 5   Element       60943 non-null  object \n",
      " 6   Unit          60943 non-null  object \n",
      " 7   Y2014         59354 non-null  float64\n",
      " 8   Y2015         59395 non-null  float64\n",
      " 9   Y2016         59408 non-null  float64\n",
      " 10  Y2017         59437 non-null  float64\n",
      " 11  Y2018         59507 non-null  float64\n",
      "dtypes: float64(5), int64(3), object(4)\n",
      "memory usage: 5.6+ MB\n"
     ]
    }
   ],
   "source": [
    "file.info()"
   ]
  },
  {
   "cell_type": "code",
   "execution_count": 91,
   "id": "006b562b",
   "metadata": {},
   "outputs": [
    {
     "data": {
      "text/html": [
       "<div>\n",
       "<style scoped>\n",
       "    .dataframe tbody tr th:only-of-type {\n",
       "        vertical-align: middle;\n",
       "    }\n",
       "\n",
       "    .dataframe tbody tr th {\n",
       "        vertical-align: top;\n",
       "    }\n",
       "\n",
       "    .dataframe thead th {\n",
       "        text-align: right;\n",
       "    }\n",
       "</style>\n",
       "<table border=\"1\" class=\"dataframe\">\n",
       "  <thead>\n",
       "    <tr style=\"text-align: right;\">\n",
       "      <th></th>\n",
       "      <th>Area Code</th>\n",
       "      <th>Item Code</th>\n",
       "      <th>Element Code</th>\n",
       "      <th>Y2014</th>\n",
       "      <th>Y2015</th>\n",
       "      <th>Y2016</th>\n",
       "      <th>Y2017</th>\n",
       "      <th>Y2018</th>\n",
       "    </tr>\n",
       "  </thead>\n",
       "  <tbody>\n",
       "    <tr>\n",
       "      <th>count</th>\n",
       "      <td>60943.000000</td>\n",
       "      <td>60943.000000</td>\n",
       "      <td>60943.000000</td>\n",
       "      <td>59354.000000</td>\n",
       "      <td>59395.000000</td>\n",
       "      <td>59408.000000</td>\n",
       "      <td>59437.000000</td>\n",
       "      <td>59507.000000</td>\n",
       "    </tr>\n",
       "    <tr>\n",
       "      <th>mean</th>\n",
       "      <td>134.265576</td>\n",
       "      <td>2687.176706</td>\n",
       "      <td>3814.856456</td>\n",
       "      <td>134.196282</td>\n",
       "      <td>135.235966</td>\n",
       "      <td>136.555222</td>\n",
       "      <td>140.917765</td>\n",
       "      <td>143.758381</td>\n",
       "    </tr>\n",
       "    <tr>\n",
       "      <th>std</th>\n",
       "      <td>72.605709</td>\n",
       "      <td>146.055739</td>\n",
       "      <td>2212.007033</td>\n",
       "      <td>1567.663696</td>\n",
       "      <td>1603.403984</td>\n",
       "      <td>1640.007194</td>\n",
       "      <td>1671.862359</td>\n",
       "      <td>1710.782658</td>\n",
       "    </tr>\n",
       "    <tr>\n",
       "      <th>min</th>\n",
       "      <td>4.000000</td>\n",
       "      <td>2501.000000</td>\n",
       "      <td>511.000000</td>\n",
       "      <td>-1796.000000</td>\n",
       "      <td>-3161.000000</td>\n",
       "      <td>-3225.000000</td>\n",
       "      <td>-1582.000000</td>\n",
       "      <td>-3396.000000</td>\n",
       "    </tr>\n",
       "    <tr>\n",
       "      <th>25%</th>\n",
       "      <td>74.000000</td>\n",
       "      <td>2562.000000</td>\n",
       "      <td>684.000000</td>\n",
       "      <td>0.000000</td>\n",
       "      <td>0.000000</td>\n",
       "      <td>0.000000</td>\n",
       "      <td>0.000000</td>\n",
       "      <td>0.000000</td>\n",
       "    </tr>\n",
       "    <tr>\n",
       "      <th>50%</th>\n",
       "      <td>136.000000</td>\n",
       "      <td>2630.000000</td>\n",
       "      <td>5142.000000</td>\n",
       "      <td>0.090000</td>\n",
       "      <td>0.080000</td>\n",
       "      <td>0.080000</td>\n",
       "      <td>0.100000</td>\n",
       "      <td>0.070000</td>\n",
       "    </tr>\n",
       "    <tr>\n",
       "      <th>75%</th>\n",
       "      <td>195.000000</td>\n",
       "      <td>2775.000000</td>\n",
       "      <td>5511.000000</td>\n",
       "      <td>8.340000</td>\n",
       "      <td>8.460000</td>\n",
       "      <td>8.430000</td>\n",
       "      <td>9.000000</td>\n",
       "      <td>9.000000</td>\n",
       "    </tr>\n",
       "    <tr>\n",
       "      <th>max</th>\n",
       "      <td>276.000000</td>\n",
       "      <td>2961.000000</td>\n",
       "      <td>5911.000000</td>\n",
       "      <td>176405.000000</td>\n",
       "      <td>181137.000000</td>\n",
       "      <td>185960.000000</td>\n",
       "      <td>190873.000000</td>\n",
       "      <td>195875.000000</td>\n",
       "    </tr>\n",
       "  </tbody>\n",
       "</table>\n",
       "</div>"
      ],
      "text/plain": [
       "          Area Code     Item Code  Element Code          Y2014          Y2015  \\\n",
       "count  60943.000000  60943.000000  60943.000000   59354.000000   59395.000000   \n",
       "mean     134.265576   2687.176706   3814.856456     134.196282     135.235966   \n",
       "std       72.605709    146.055739   2212.007033    1567.663696    1603.403984   \n",
       "min        4.000000   2501.000000    511.000000   -1796.000000   -3161.000000   \n",
       "25%       74.000000   2562.000000    684.000000       0.000000       0.000000   \n",
       "50%      136.000000   2630.000000   5142.000000       0.090000       0.080000   \n",
       "75%      195.000000   2775.000000   5511.000000       8.340000       8.460000   \n",
       "max      276.000000   2961.000000   5911.000000  176405.000000  181137.000000   \n",
       "\n",
       "               Y2016          Y2017          Y2018  \n",
       "count   59408.000000   59437.000000   59507.000000  \n",
       "mean      136.555222     140.917765     143.758381  \n",
       "std      1640.007194    1671.862359    1710.782658  \n",
       "min     -3225.000000   -1582.000000   -3396.000000  \n",
       "25%         0.000000       0.000000       0.000000  \n",
       "50%         0.080000       0.100000       0.070000  \n",
       "75%         8.430000       9.000000       9.000000  \n",
       "max    185960.000000  190873.000000  195875.000000  "
      ]
     },
     "execution_count": 91,
     "metadata": {},
     "output_type": "execute_result"
    }
   ],
   "source": [
    "file.describe()"
   ]
  },
  {
   "cell_type": "markdown",
   "id": "164cae9f",
   "metadata": {},
   "source": [
    "### Observing 5 random samples from the dataset"
   ]
  },
  {
   "cell_type": "code",
   "execution_count": 92,
   "id": "98c97e4b",
   "metadata": {},
   "outputs": [
    {
     "data": {
      "text/html": [
       "<div>\n",
       "<style scoped>\n",
       "    .dataframe tbody tr th:only-of-type {\n",
       "        vertical-align: middle;\n",
       "    }\n",
       "\n",
       "    .dataframe tbody tr th {\n",
       "        vertical-align: top;\n",
       "    }\n",
       "\n",
       "    .dataframe thead th {\n",
       "        text-align: right;\n",
       "    }\n",
       "</style>\n",
       "<table border=\"1\" class=\"dataframe\">\n",
       "  <thead>\n",
       "    <tr style=\"text-align: right;\">\n",
       "      <th></th>\n",
       "      <th>Area Code</th>\n",
       "      <th>Area</th>\n",
       "      <th>Item Code</th>\n",
       "      <th>Item</th>\n",
       "      <th>Element Code</th>\n",
       "      <th>Element</th>\n",
       "      <th>Unit</th>\n",
       "      <th>Y2014</th>\n",
       "      <th>Y2015</th>\n",
       "      <th>Y2016</th>\n",
       "      <th>Y2017</th>\n",
       "      <th>Y2018</th>\n",
       "    </tr>\n",
       "  </thead>\n",
       "  <tbody>\n",
       "    <tr>\n",
       "      <th>38695</th>\n",
       "      <td>143</td>\n",
       "      <td>Morocco</td>\n",
       "      <td>2948</td>\n",
       "      <td>Milk - Excluding Butter</td>\n",
       "      <td>674</td>\n",
       "      <td>Protein supply quantity (g/capita/day)</td>\n",
       "      <td>g/capita/day</td>\n",
       "      <td>4.82</td>\n",
       "      <td>4.88</td>\n",
       "      <td>4.95</td>\n",
       "      <td>5.06</td>\n",
       "      <td>5.14</td>\n",
       "    </tr>\n",
       "    <tr>\n",
       "      <th>42423</th>\n",
       "      <td>158</td>\n",
       "      <td>Niger</td>\n",
       "      <td>2618</td>\n",
       "      <td>Pineapples and products</td>\n",
       "      <td>664</td>\n",
       "      <td>Food supply (kcal/capita/day)</td>\n",
       "      <td>kcal/capita/day</td>\n",
       "      <td>0.00</td>\n",
       "      <td>0.00</td>\n",
       "      <td>0.00</td>\n",
       "      <td>0.00</td>\n",
       "      <td>0.00</td>\n",
       "    </tr>\n",
       "    <tr>\n",
       "      <th>32469</th>\n",
       "      <td>130</td>\n",
       "      <td>Malawi</td>\n",
       "      <td>2745</td>\n",
       "      <td>Honey</td>\n",
       "      <td>5301</td>\n",
       "      <td>Domestic supply quantity</td>\n",
       "      <td>1000 tonnes</td>\n",
       "      <td>0.00</td>\n",
       "      <td>0.00</td>\n",
       "      <td>0.00</td>\n",
       "      <td>0.00</td>\n",
       "      <td>0.00</td>\n",
       "    </tr>\n",
       "    <tr>\n",
       "      <th>53880</th>\n",
       "      <td>217</td>\n",
       "      <td>Togo</td>\n",
       "      <td>2899</td>\n",
       "      <td>Miscellaneous</td>\n",
       "      <td>645</td>\n",
       "      <td>Food supply quantity (kg/capita/yr)</td>\n",
       "      <td>kg</td>\n",
       "      <td>3.65</td>\n",
       "      <td>3.65</td>\n",
       "      <td>3.65</td>\n",
       "      <td>3.65</td>\n",
       "      <td>3.65</td>\n",
       "    </tr>\n",
       "    <tr>\n",
       "      <th>387</th>\n",
       "      <td>4</td>\n",
       "      <td>Algeria</td>\n",
       "      <td>2556</td>\n",
       "      <td>Groundnuts (Shelled Eq)</td>\n",
       "      <td>5142</td>\n",
       "      <td>Food</td>\n",
       "      <td>1000 tonnes</td>\n",
       "      <td>7.00</td>\n",
       "      <td>7.00</td>\n",
       "      <td>6.00</td>\n",
       "      <td>4.00</td>\n",
       "      <td>11.00</td>\n",
       "    </tr>\n",
       "  </tbody>\n",
       "</table>\n",
       "</div>"
      ],
      "text/plain": [
       "       Area Code     Area  Item Code                     Item  Element Code  \\\n",
       "38695        143  Morocco       2948  Milk - Excluding Butter           674   \n",
       "42423        158    Niger       2618  Pineapples and products           664   \n",
       "32469        130   Malawi       2745                    Honey          5301   \n",
       "53880        217     Togo       2899            Miscellaneous           645   \n",
       "387            4  Algeria       2556  Groundnuts (Shelled Eq)          5142   \n",
       "\n",
       "                                      Element             Unit  Y2014  Y2015  \\\n",
       "38695  Protein supply quantity (g/capita/day)     g/capita/day   4.82   4.88   \n",
       "42423           Food supply (kcal/capita/day)  kcal/capita/day   0.00   0.00   \n",
       "32469                Domestic supply quantity      1000 tonnes   0.00   0.00   \n",
       "53880     Food supply quantity (kg/capita/yr)               kg   3.65   3.65   \n",
       "387                                      Food      1000 tonnes   7.00   7.00   \n",
       "\n",
       "       Y2016  Y2017  Y2018  \n",
       "38695   4.95   5.06   5.14  \n",
       "42423   0.00   0.00   0.00  \n",
       "32469   0.00   0.00   0.00  \n",
       "53880   3.65   3.65   3.65  \n",
       "387     6.00   4.00  11.00  "
      ]
     },
     "execution_count": 92,
     "metadata": {},
     "output_type": "execute_result"
    }
   ],
   "source": [
    "samples = file.sample(n=5)\n",
    "samples"
   ]
  },
  {
   "cell_type": "markdown",
   "id": "8bbb4fa9",
   "metadata": {},
   "source": [
    "# Questions and Solutions"
   ]
  },
  {
   "cell_type": "markdown",
   "id": "e5dcbcb6",
   "metadata": {},
   "source": [
    "### 1. Perform a groupby operation on ‘Element’.  What is the total number of the sum of Processing in 2017?"
   ]
  },
  {
   "cell_type": "code",
   "execution_count": 93,
   "id": "30a45bae",
   "metadata": {},
   "outputs": [
    {
     "data": {
      "text/plain": [
       "292836.0"
      ]
     },
     "execution_count": 93,
     "metadata": {},
     "output_type": "execute_result"
    }
   ],
   "source": [
    "p_2017=file[file[\"Element\"]==\"Processing\"].Y2017.sum()\n",
    "p_2017"
   ]
  },
  {
   "cell_type": "markdown",
   "id": "af6d25d8",
   "metadata": {},
   "source": [
    "### 2. Which of the following dataframe methods can be used to access elements across rows and columns?"
   ]
  },
  {
   "cell_type": "markdown",
   "id": "0b328c35",
   "metadata": {},
   "source": [
    "answer: both .loc() and iloc() method can be used to access elements"
   ]
  },
  {
   "cell_type": "markdown",
   "id": "bea8d7aa",
   "metadata": {},
   "source": [
    "### 3. What is the total sum of Wine produced in 2015 and 2018 respectively?"
   ]
  },
  {
   "cell_type": "code",
   "execution_count": 94,
   "id": "dd99cd54",
   "metadata": {},
   "outputs": [
    {
     "data": {
      "text/plain": [
       "(4251.81, 4039.32)"
      ]
     },
     "execution_count": 94,
     "metadata": {},
     "output_type": "execute_result"
    }
   ],
   "source": [
    "wine= file[file[\"Item\"]==\"Wine\"]\n",
    "wine_2015=wine[\"Y2015\"].sum()\n",
    "wine_2018=wine[\"Y2018\"].sum()\n",
    "#to two decimal points as in the options\n",
    "round(wine_2015,2), round(wine_2018,2)"
   ]
  },
  {
   "cell_type": "markdown",
   "id": "d1a82893",
   "metadata": {},
   "source": [
    "### 4. Select columns ‘Y2017’ and ‘Area’, Perform a groupby operation on ‘Area’.  Which of these Areas had the 7th lowest sum in 2017?"
   ]
  },
  {
   "cell_type": "code",
   "execution_count": 95,
   "id": "1c0744cf",
   "metadata": {},
   "outputs": [
    {
     "data": {
      "text/plain": [
       "Area\n",
       "Sudan (former)                       0.00\n",
       "Ethiopia PDR                         0.00\n",
       "Comoros                             59.84\n",
       "Seychelles                         442.34\n",
       "Sao Tome and Principe            12662.63\n",
       "Cabo Verde                       14650.74\n",
       "Guinea-Bissau                    19102.77\n",
       "Lesotho                          21267.96\n",
       "Botswana                         22101.30\n",
       "Djibouti                         22729.91\n",
       "Gambia                           23154.18\n",
       "Gabon                            27979.64\n",
       "Liberia                          29342.20\n",
       "Namibia                          29874.89\n",
       "Central African Republic         29937.00\n",
       "Congo                            41181.68\n",
       "Togo                             49841.88\n",
       "Mauritius                        51114.83\n",
       "Eswatini                         54343.33\n",
       "Sierra Leone                     55311.33\n",
       "Chad                             71594.68\n",
       "Rwanda                           73663.69\n",
       "Zimbabwe                         75919.34\n",
       "Senegal                          95681.15\n",
       "Guinea                           98138.87\n",
       "Burkina Faso                    101855.07\n",
       "Zambia                          103223.77\n",
       "Tunisia                         124167.20\n",
       "Benin                           124771.22\n",
       "Niger                           126707.58\n",
       "Madagascar                      131197.73\n",
       "Mali                            149928.33\n",
       "Mauritania                      156665.46\n",
       "Mozambique                      161407.98\n",
       "Malawi                          181098.71\n",
       "Uganda                          213950.38\n",
       "Côte d'Ivoire                   224599.01\n",
       "Angola                          229159.57\n",
       "Cameroon                        232030.43\n",
       "Sudan                           239931.92\n",
       "Kenya                           264660.66\n",
       "United Republic of Tanzania     322616.85\n",
       "Algeria                         325644.27\n",
       "Ghana                           337599.06\n",
       "Morocco                         388495.36\n",
       "Ethiopia                        448683.76\n",
       "South Africa                    517590.54\n",
       "Egypt                           866379.92\n",
       "Nigeria                        1483268.23\n",
       "Name: Y2017, dtype: float64"
      ]
     },
     "execution_count": 95,
     "metadata": {},
     "output_type": "execute_result"
    }
   ],
   "source": [
    "file.groupby(\"Area\")[\"Y2017\"].sum().sort_values(ascending=True)"
   ]
  },
  {
   "cell_type": "markdown",
   "id": "dd348c29",
   "metadata": {},
   "source": [
    "It can be seen from the series above that after sorting in ascending order, Guinea-Bisau is the 7th"
   ]
  },
  {
   "cell_type": "markdown",
   "id": "db0d43ea",
   "metadata": {},
   "source": [
    "### 5. What is the ouput for, S = [['him', 'sell'], [90, 28, 43]], if S[0][1][1] is indexed\n"
   ]
  },
  {
   "cell_type": "code",
   "execution_count": 96,
   "id": "752a8bba",
   "metadata": {},
   "outputs": [
    {
     "data": {
      "text/plain": [
       "'e'"
      ]
     },
     "execution_count": 96,
     "metadata": {},
     "output_type": "execute_result"
    }
   ],
   "source": [
    "S = [['him', 'sell'], [90, 28, 43]]\n",
    "S[0][1][1]"
   ]
  },
  {
   "cell_type": "markdown",
   "id": "967750df",
   "metadata": {},
   "source": [
    "The output in the above list indexing is \"e\""
   ]
  },
  {
   "cell_type": "markdown",
   "id": "81a4e756",
   "metadata": {},
   "source": [
    "### 6. What is the total Protein supply quantity in Madagascar in 2015?"
   ]
  },
  {
   "cell_type": "code",
   "execution_count": 97,
   "id": "46db3617",
   "metadata": {},
   "outputs": [
    {
     "data": {
      "text/plain": [
       "173.05"
      ]
     },
     "execution_count": 97,
     "metadata": {},
     "output_type": "execute_result"
    }
   ],
   "source": [
    "mdg= file[file[\"Area\"]==\"Madagascar\"]\n",
    "mdg_protein = mdg[mdg[\"Element\"]==\"Protein supply quantity (g/capita/day)\"]\n",
    "mdg_protein_2015 = mdg_protein.Y2015\n",
    "sum_mdg=mdg_protein_2015.sum()\n",
    "#to 2 decimal places\n",
    "round(sum_mdg,2)"
   ]
  },
  {
   "cell_type": "markdown",
   "id": "ee19cf30",
   "metadata": {},
   "source": [
    "### 7. Which of the following is a python inbuilt module?"
   ]
  },
  {
   "cell_type": "markdown",
   "id": "c2a7840f",
   "metadata": {},
   "source": [
    "The math module is the only builtin python module in the options"
   ]
  },
  {
   "cell_type": "markdown",
   "id": "b1cce007",
   "metadata": {},
   "source": [
    "### 8. What is the total number and percentage of missing data in 2014 to 3 decimal places?"
   ]
  },
  {
   "cell_type": "code",
   "execution_count": 98,
   "id": "1d8e1267",
   "metadata": {},
   "outputs": [
    {
     "data": {
      "text/plain": [
       "(1589, 2.607)"
      ]
     },
     "execution_count": 98,
     "metadata": {},
     "output_type": "execute_result"
    }
   ],
   "source": [
    "#The null value in Y2014\n",
    "null_2014 = file['Y2014'].isnull().sum()\n",
    "null_all = file.isnull().sum()\n",
    "percent_null = (null_2014/len(file[\"Y2014\"]))*100\n",
    "#print null_2014 percent_null to 3 decimal places\n",
    "null_2014,round(percent_null,3)"
   ]
  },
  {
   "cell_type": "markdown",
   "id": "217c9a96",
   "metadata": {},
   "source": [
    "It can be seen above that the total null value in the year 2014 is 1589\n",
    "and the percentage of that to the total data in Y2014, to 2 dp is 2.607%"
   ]
  },
  {
   "cell_type": "markdown",
   "id": "3d2475fc",
   "metadata": {},
   "source": [
    "### 9. What year has the least correlation with \"Element Code\"?"
   ]
  },
  {
   "cell_type": "code",
   "execution_count": 99,
   "id": "90039434",
   "metadata": {},
   "outputs": [
    {
     "name": "stderr",
     "output_type": "stream",
     "text": [
      "C:\\Users\\USER\\AppData\\Local\\Temp\\ipykernel_9948\\1007512219.py:1: FutureWarning: The default value of numeric_only in DataFrame.corr is deprecated. In a future version, it will default to False. Select only valid columns or specify the value of numeric_only to silence this warning.\n",
      "  file.corr()\n"
     ]
    },
    {
     "data": {
      "text/html": [
       "<div>\n",
       "<style scoped>\n",
       "    .dataframe tbody tr th:only-of-type {\n",
       "        vertical-align: middle;\n",
       "    }\n",
       "\n",
       "    .dataframe tbody tr th {\n",
       "        vertical-align: top;\n",
       "    }\n",
       "\n",
       "    .dataframe thead th {\n",
       "        text-align: right;\n",
       "    }\n",
       "</style>\n",
       "<table border=\"1\" class=\"dataframe\">\n",
       "  <thead>\n",
       "    <tr style=\"text-align: right;\">\n",
       "      <th></th>\n",
       "      <th>Area Code</th>\n",
       "      <th>Item Code</th>\n",
       "      <th>Element Code</th>\n",
       "      <th>Y2014</th>\n",
       "      <th>Y2015</th>\n",
       "      <th>Y2016</th>\n",
       "      <th>Y2017</th>\n",
       "      <th>Y2018</th>\n",
       "    </tr>\n",
       "  </thead>\n",
       "  <tbody>\n",
       "    <tr>\n",
       "      <th>Area Code</th>\n",
       "      <td>1.000000</td>\n",
       "      <td>-0.005159</td>\n",
       "      <td>-0.000209</td>\n",
       "      <td>0.006164</td>\n",
       "      <td>0.005472</td>\n",
       "      <td>0.005247</td>\n",
       "      <td>0.005006</td>\n",
       "      <td>0.005665</td>\n",
       "    </tr>\n",
       "    <tr>\n",
       "      <th>Item Code</th>\n",
       "      <td>-0.005159</td>\n",
       "      <td>1.000000</td>\n",
       "      <td>-0.024683</td>\n",
       "      <td>0.021722</td>\n",
       "      <td>0.020857</td>\n",
       "      <td>0.020109</td>\n",
       "      <td>0.021494</td>\n",
       "      <td>0.021314</td>\n",
       "    </tr>\n",
       "    <tr>\n",
       "      <th>Element Code</th>\n",
       "      <td>-0.000209</td>\n",
       "      <td>-0.024683</td>\n",
       "      <td>1.000000</td>\n",
       "      <td>0.024457</td>\n",
       "      <td>0.023889</td>\n",
       "      <td>0.023444</td>\n",
       "      <td>0.024254</td>\n",
       "      <td>0.024279</td>\n",
       "    </tr>\n",
       "    <tr>\n",
       "      <th>Y2014</th>\n",
       "      <td>0.006164</td>\n",
       "      <td>0.021722</td>\n",
       "      <td>0.024457</td>\n",
       "      <td>1.000000</td>\n",
       "      <td>0.994647</td>\n",
       "      <td>0.996081</td>\n",
       "      <td>0.995230</td>\n",
       "      <td>0.994872</td>\n",
       "    </tr>\n",
       "    <tr>\n",
       "      <th>Y2015</th>\n",
       "      <td>0.005472</td>\n",
       "      <td>0.020857</td>\n",
       "      <td>0.023889</td>\n",
       "      <td>0.994647</td>\n",
       "      <td>1.000000</td>\n",
       "      <td>0.995739</td>\n",
       "      <td>0.988048</td>\n",
       "      <td>0.988208</td>\n",
       "    </tr>\n",
       "    <tr>\n",
       "      <th>Y2016</th>\n",
       "      <td>0.005247</td>\n",
       "      <td>0.020109</td>\n",
       "      <td>0.023444</td>\n",
       "      <td>0.996081</td>\n",
       "      <td>0.995739</td>\n",
       "      <td>1.000000</td>\n",
       "      <td>0.992785</td>\n",
       "      <td>0.992757</td>\n",
       "    </tr>\n",
       "    <tr>\n",
       "      <th>Y2017</th>\n",
       "      <td>0.005006</td>\n",
       "      <td>0.021494</td>\n",
       "      <td>0.024254</td>\n",
       "      <td>0.995230</td>\n",
       "      <td>0.988048</td>\n",
       "      <td>0.992785</td>\n",
       "      <td>1.000000</td>\n",
       "      <td>0.998103</td>\n",
       "    </tr>\n",
       "    <tr>\n",
       "      <th>Y2018</th>\n",
       "      <td>0.005665</td>\n",
       "      <td>0.021314</td>\n",
       "      <td>0.024279</td>\n",
       "      <td>0.994872</td>\n",
       "      <td>0.988208</td>\n",
       "      <td>0.992757</td>\n",
       "      <td>0.998103</td>\n",
       "      <td>1.000000</td>\n",
       "    </tr>\n",
       "  </tbody>\n",
       "</table>\n",
       "</div>"
      ],
      "text/plain": [
       "              Area Code  Item Code  Element Code     Y2014     Y2015  \\\n",
       "Area Code      1.000000  -0.005159     -0.000209  0.006164  0.005472   \n",
       "Item Code     -0.005159   1.000000     -0.024683  0.021722  0.020857   \n",
       "Element Code  -0.000209  -0.024683      1.000000  0.024457  0.023889   \n",
       "Y2014          0.006164   0.021722      0.024457  1.000000  0.994647   \n",
       "Y2015          0.005472   0.020857      0.023889  0.994647  1.000000   \n",
       "Y2016          0.005247   0.020109      0.023444  0.996081  0.995739   \n",
       "Y2017          0.005006   0.021494      0.024254  0.995230  0.988048   \n",
       "Y2018          0.005665   0.021314      0.024279  0.994872  0.988208   \n",
       "\n",
       "                 Y2016     Y2017     Y2018  \n",
       "Area Code     0.005247  0.005006  0.005665  \n",
       "Item Code     0.020109  0.021494  0.021314  \n",
       "Element Code  0.023444  0.024254  0.024279  \n",
       "Y2014         0.996081  0.995230  0.994872  \n",
       "Y2015         0.995739  0.988048  0.988208  \n",
       "Y2016         1.000000  0.992785  0.992757  \n",
       "Y2017         0.992785  1.000000  0.998103  \n",
       "Y2018         0.992757  0.998103  1.000000  "
      ]
     },
     "execution_count": 99,
     "metadata": {},
     "output_type": "execute_result"
    }
   ],
   "source": [
    "file.corr()"
   ]
  },
  {
   "cell_type": "markdown",
   "id": "ca724904",
   "metadata": {},
   "source": [
    "For the various years 2014,2015,2016,2017, and 2018, there is a corresponding correlation value of 0.024457,0.023889,0.023444,0.02454 and 0.024279\n",
    "\n",
    "It can be seen that Year 2016 has the least correlation with Element Code "
   ]
  },
  {
   "cell_type": "markdown",
   "id": "c28cfb08",
   "metadata": {},
   "source": [
    "### 10. y = [(2, 4), (7, 8), (1, 5, 9)]\n",
    "what indexing will output 8\n",
    "* 8 can  be found in row index 1\n",
    "* and in the row index 1, it can be found at the last of the tuple, which can be indexed as either 1 or -1\n",
    "* it can be indexed as y[1][1] or y[1][-1]\n",
    "* Only y[1][-1] can be found in the options\n",
    "\n",
    "I will try that out below"
   ]
  },
  {
   "cell_type": "code",
   "execution_count": 100,
   "id": "986a048e",
   "metadata": {},
   "outputs": [
    {
     "data": {
      "text/plain": [
       "8"
      ]
     },
     "execution_count": 100,
     "metadata": {},
     "output_type": "execute_result"
    }
   ],
   "source": [
    "y = [(2, 4), (7, 8), (1, 5, 9)]\n",
    "y[1][-1]"
   ]
  },
  {
   "cell_type": "markdown",
   "id": "9c77a26b",
   "metadata": {},
   "source": [
    "### 11. Which of these python structures is unorderly"
   ]
  },
  {
   "cell_type": "markdown",
   "id": "48e5e6bc",
   "metadata": {},
   "source": [
    "Answer is Set"
   ]
  },
  {
   "cell_type": "markdown",
   "id": "1b99a14f",
   "metadata": {},
   "source": [
    "### 12. Given the following python code, what would the output of the code give?"
   ]
  },
  {
   "cell_type": "markdown",
   "id": "b38efb68",
   "metadata": {},
   "source": [
    "Typeerror will be raised, because tuples are not mutable and therefore do not support item assignment \n",
    "\n",
    "I will try it below"
   ]
  },
  {
   "cell_type": "code",
   "execution_count": 101,
   "id": "96909476",
   "metadata": {},
   "outputs": [
    {
     "ename": "TypeError",
     "evalue": "'tuple' object does not support item assignment",
     "output_type": "error",
     "traceback": [
      "\u001b[1;31m---------------------------------------------------------------------------\u001b[0m",
      "\u001b[1;31mTypeError\u001b[0m                                 Traceback (most recent call last)",
      "Cell \u001b[1;32mIn [101], line 2\u001b[0m\n\u001b[0;32m      1\u001b[0m my_tuppy \u001b[38;5;241m=\u001b[39m (\u001b[38;5;241m1\u001b[39m,\u001b[38;5;241m2\u001b[39m,\u001b[38;5;241m5\u001b[39m,\u001b[38;5;241m8\u001b[39m)\n\u001b[1;32m----> 2\u001b[0m \u001b[43mmy_tuppy\u001b[49m\u001b[43m[\u001b[49m\u001b[38;5;241;43m2\u001b[39;49m\u001b[43m]\u001b[49m\u001b[38;5;241m=\u001b[39m\u001b[38;5;241m6\u001b[39m\n",
      "\u001b[1;31mTypeError\u001b[0m: 'tuple' object does not support item assignment"
     ]
    }
   ],
   "source": [
    "my_tuppy = (1,2,5,8)\n",
    "my_tuppy[2]=6"
   ]
  },
  {
   "cell_type": "markdown",
   "id": "c9338877",
   "metadata": {},
   "source": [
    "### 13. DataFrame and table included in question "
   ]
  },
  {
   "cell_type": "markdown",
   "id": "eaf64302",
   "metadata": {},
   "source": [
    "pd.DataFrame(lst, columns =col, index =[1,2,3]) is the right option\n",
    "\n",
    "lst and col were included in the question"
   ]
  },
  {
   "cell_type": "markdown",
   "id": "27721ba2",
   "metadata": {},
   "source": [
    "### 14. What is the total number of unique countries in the dataset"
   ]
  },
  {
   "cell_type": "code",
   "execution_count": 102,
   "id": "466a7fb3",
   "metadata": {},
   "outputs": [
    {
     "data": {
      "text/plain": [
       "49"
      ]
     },
     "execution_count": 102,
     "metadata": {},
     "output_type": "execute_result"
    }
   ],
   "source": [
    "unique_Area=file.Area.unique()\n",
    "#Total unique_Area\n",
    "len(unique_Area)"
   ]
  },
  {
   "cell_type": "markdown",
   "id": "b44eb039",
   "metadata": {},
   "source": [
    "There are 49 unique countries in the dataset"
   ]
  },
  {
   "cell_type": "markdown",
   "id": "d74fcae5",
   "metadata": {},
   "source": [
    "### 15. Given a numpy array, how would you select texts that was given in italics\n",
    "\n",
    "Those numbers were 89,63,92,48 in certain indices"
   ]
  },
  {
   "cell_type": "code",
   "execution_count": 103,
   "id": "2586dbe3",
   "metadata": {},
   "outputs": [
    {
     "data": {
      "text/plain": [
       "array([[89, 63],\n",
       "       [92, 48]])"
      ]
     },
     "execution_count": 103,
     "metadata": {},
     "output_type": "execute_result"
    }
   ],
   "source": [
    "arr = np.array([[94,89,63],[93,92,48],[92,94,56]])\n",
    "#row 0 and 1 (0:2 or :2), col 1 and 2 (1:3 or 1:)\n",
    "# from the options, the most suitable is arr[:2,1:]\n",
    "\n",
    "arr[:2,1:]\n"
   ]
  },
  {
   "cell_type": "markdown",
   "id": "13e84b1a",
   "metadata": {},
   "source": [
    "The above output array matches with the required"
   ]
  },
  {
   "cell_type": "markdown",
   "id": "dde45e5e",
   "metadata": {},
   "source": [
    "### 16. What is the mean and standard deviation accross the whole dataset for the year 2017 to 2 decimal places"
   ]
  },
  {
   "cell_type": "code",
   "execution_count": 104,
   "id": "e145e212",
   "metadata": {},
   "outputs": [
    {
     "data": {
      "text/plain": [
       "(140.92, 1671.86)"
      ]
     },
     "execution_count": 104,
     "metadata": {},
     "output_type": "execute_result"
    }
   ],
   "source": [
    "year_2017 = file.Y2017\n",
    "mean = year_2017.mean()\n",
    "std = year_2017.std()\n",
    "\n",
    "#printing mean and std to 2 dp\n",
    "round(mean,2),round(std,2)"
   ]
  },
  {
   "cell_type": "markdown",
   "id": "daf23217",
   "metadata": {},
   "source": [
    "The mean and standard deviation for the year 2017 accross the dataset is 140.92 and 1671.86 to two decimal places respectively  "
   ]
  },
  {
   "cell_type": "markdown",
   "id": "a65b1579",
   "metadata": {},
   "source": [
    "### 17. What year has the highest stock variation"
   ]
  },
  {
   "cell_type": "code",
   "execution_count": 105,
   "id": "2fc7831f",
   "metadata": {},
   "outputs": [
    {
     "data": {
      "text/plain": [
       "('Y2014', 58749.83)"
      ]
     },
     "execution_count": 105,
     "metadata": {},
     "output_type": "execute_result"
    }
   ],
   "source": [
    "stock = file[file[\"Element\"]==\"Stock Variation\"]\n",
    "year_stock=stock[[\"Y2014\",\"Y2015\",\"Y2016\",\"Y2017\",\"Y2018\"]].sum()\n",
    "\n",
    "#printing the year with highest sum of Stock Variation and the sum for that year\n",
    "year_stock.idxmax(),year_stock.max()"
   ]
  },
  {
   "cell_type": "markdown",
   "id": "d2c9351a",
   "metadata": {},
   "source": [
    "It can be seen above that the year 2014 has the highest sum of Stock variation, with a sum of 58749.83 "
   ]
  },
  {
   "cell_type": "markdown",
   "id": "1fdafa67",
   "metadata": {},
   "source": [
    "### 18. How would you check for the number of rows and columns in a pandas DataFrame named df\n",
    "\n",
    "\n",
    "### Answer\n",
    "pd.DataFrame.shape is used to check the number of rows and columns in a DataFrame\n",
    "In the question, df.shape is used\n",
    "\n",
    "I will try it out with our dataset named \"file\""
   ]
  },
  {
   "cell_type": "code",
   "execution_count": 106,
   "id": "7ae6e132",
   "metadata": {},
   "outputs": [
    {
     "data": {
      "text/plain": [
       "(60943, 12)"
      ]
     },
     "execution_count": 106,
     "metadata": {},
     "output_type": "execute_result"
    }
   ],
   "source": [
    "file.shape"
   ]
  },
  {
   "cell_type": "markdown",
   "id": "130921da",
   "metadata": {},
   "source": [
    "Our dataset named \"file\" has a 60,943 rows and 12 colomns"
   ]
  },
  {
   "cell_type": "markdown",
   "id": "939a05ef",
   "metadata": {},
   "source": [
    "### 19. Which of the Area had the highest sum in 2017\n"
   ]
  },
  {
   "cell_type": "code",
   "execution_count": 107,
   "id": "84ad90ac",
   "metadata": {},
   "outputs": [
    {
     "data": {
      "text/plain": [
       "('Nigeria', 1483268.23)"
      ]
     },
     "execution_count": 107,
     "metadata": {},
     "output_type": "execute_result"
    }
   ],
   "source": [
    "y_2017 = file.groupby(\"Area\")[\"Y2017\"].sum()\n",
    "#Year with maximum sum and the sum\n",
    "y_2017.idxmax(), y_2017.max()"
   ]
  },
  {
   "cell_type": "markdown",
   "id": "a0dc2077",
   "metadata": {},
   "source": [
    "Nigeria has the highest sum in year 2017, with total sum of 1483268.23"
   ]
  },
  {
   "cell_type": "markdown",
   "id": "c07af5a1",
   "metadata": {},
   "source": [
    "### 20. A pandas DataFrame with dimensions (100,3), has how many features and observations "
   ]
  },
  {
   "cell_type": "markdown",
   "id": "2d1486df",
   "metadata": {},
   "source": [
    "feature is the number of columns and observation is the number of rows\n",
    "\n",
    "The shape of a DataFrame is a tuple in the form of (row,column)\n",
    "\n",
    "Therefore the DataFrame has 3 features(columns) and 100 Obsevations(rows)"
   ]
  }
 ],
 "metadata": {
  "kernelspec": {
   "display_name": "Python 3 (ipykernel)",
   "language": "python",
   "name": "python3"
  },
  "language_info": {
   "codemirror_mode": {
    "name": "ipython",
    "version": 3
   },
   "file_extension": ".py",
   "mimetype": "text/x-python",
   "name": "python",
   "nbconvert_exporter": "python",
   "pygments_lexer": "ipython3",
   "version": "3.10.0"
  }
 },
 "nbformat": 4,
 "nbformat_minor": 5
}
